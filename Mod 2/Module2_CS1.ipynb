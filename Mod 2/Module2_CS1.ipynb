{
 "cells": [
  {
   "cell_type": "code",
   "execution_count": 1,
   "id": "4154e2b4-cac6-4ecb-8b54-9866a5802f09",
   "metadata": {},
   "outputs": [
    {
     "name": "stdin",
     "output_type": "stream",
     "text": [
      "Please provide a number to find the factors and check whether it is even or odd 54\n"
     ]
    },
    {
     "name": "stdout",
     "output_type": "stream",
     "text": [
      "1, Odd factor\n",
      "2, Even factor\n",
      "3, Odd factor\n",
      "6, Even factor\n",
      "9, Odd factor\n",
      "18, Even factor\n",
      "27, Odd factor\n",
      "54, Even factor\n"
     ]
    }
   ],
   "source": [
    "# 1. Write a program which will find factors of given number and find whether the factor is even or odd\n",
    "number=int(input(\"Please provide a number to find the factors and check whether it is even or odd\"))\n",
    "\n",
    "def findFactors_distinguishEvenOrOdd(number):\n",
    "    for i in range(1, number+1):\n",
    "        if (number % i) == 0:\n",
    "            if (i%2) == 0:\n",
    "                print(f\"{i}, Even factor\")\n",
    "            else:\n",
    "                print(f\"{i}, Odd factor\")\n",
    "\n",
    "findFactors_distinguishEvenOrOdd(number)"
   ]
  },
  {
   "cell_type": "code",
   "execution_count": 2,
   "id": "44452234-f079-4034-9783-579fa26c23d3",
   "metadata": {},
   "outputs": [
    {
     "name": "stdin",
     "output_type": "stream",
     "text": [
      "Please enter a String: heLLo I an here 43\n"
     ]
    },
    {
     "name": "stdout",
     "output_type": "stream",
     "text": [
      "43\n",
      "an\n",
      "hello\n",
      "here\n",
      "i\n"
     ]
    }
   ],
   "source": [
    "#2. Write a code which accepts a sequence of words as input and prints the words in a sequence after sorting them alphabetically. \n",
    "input_string=input(\"Please enter a String:\")\n",
    "\n",
    "#Split the input_string into a list of words\n",
    "words=[word.lower() for word in input_string.split()]\n",
    "\n",
    "#Sort alphabetically\n",
    "words.sort()\n",
    "\n",
    "#Arrange in a sequence and print\n",
    "for word in words:\n",
    "    print(f\"{word}\")"
   ]
  },
  {
   "cell_type": "code",
   "execution_count": 3,
   "id": "16453762-0144-4f26-8941-0d22eefdcf1e",
   "metadata": {},
   "outputs": [
    {
     "name": "stdout",
     "output_type": "stream",
     "text": [
      "2000,2002,2004,2006,2008,2020,2022,2024,2026,2028,2040,2042,2044,2046,2048,2060,2062,2064,2066,2068,2080,2082,2084,2086,2088,2200,2202,2204,2206,2208,2220,2222,2224,2226,2228,2240,2242,2244,2246,2248,2260,2262,2264,2266,2268,2280,2282,2284,2286,2288,2400,2402,2404,2406,2408,2420,2422,2424,2426,2428,2440,2442,2444,2446,2448,2460,2462,2464,2466,2468,2480,2482,2484,2486,2488,2600,2602,2604,2606,2608,2620,2622,2624,2626,2628,2640,2642,2644,2646,2648,2660,2662,2664,2666,2668,2680,2682,2684,2686,2688,2800,2802,2804,2806,2808,2820,2822,2824,2826,2828,2840,2842,2844,2846,2848,2860,2862,2864,2866,2868,2880,2882,2884,2886,2888\n"
     ]
    }
   ],
   "source": [
    "#3. Write a program, which will find all the numbers between 1000 and 3000 (both\n",
    "#included) such that each digit of a number is an even number. The numbers\n",
    "#obtained should be printed in a comma separated sequence on a single line\n",
    "\n",
    "#Definded Numbers\n",
    "defined_range= range(1000, 3000+1)\n",
    "\n",
    "evenDigitNumbers = []\n",
    "def evenDigitFunc(number):\n",
    "    for x in number:\n",
    "        s = str(x) #TypeCasting int to String\n",
    "        if (int(s[0]) % 2 == 0) and (int(s[1]) % 2 == 0) and (int(s[2]) % 2 == 0) and (int(s[3]) % 2 == 0):\n",
    "            evenDigitNumbers.append(s)\n",
    "    print(\",\".join(evenDigitNumbers))\n",
    "    \n",
    "evenDigitFunc(defined_range)"
   ]
  },
  {
   "cell_type": "code",
   "execution_count": 4,
   "id": "2dff4c31-1d72-4080-8d53-3e5d9c2bd049",
   "metadata": {},
   "outputs": [
    {
     "name": "stdin",
     "output_type": "stream",
     "text": [
      "Please enter a String: hell!@3123 23 21 \n"
     ]
    },
    {
     "name": "stdout",
     "output_type": "stream",
     "text": [
      "LETTERS: 4\n",
      "DIGITS: 8\n"
     ]
    }
   ],
   "source": [
    "# Write a program that accepts a sentence and calculate the number of letters and digits. \n",
    "input_string=input(\"Please enter a String:\")\n",
    "\n",
    "#Initiatlize\n",
    "count_letters=0\n",
    "count_digits=0\n",
    "\n",
    "for s in input_string:\n",
    "    #Count Numeric Digits\n",
    "    if s.isnumeric():\n",
    "        count_digits+=1\n",
    "    #Count Alphabets\n",
    "    elif s.isalpha():\n",
    "        count_letters+=1\n",
    "    #Discard Punctuations and Spaces\n",
    "    \n",
    "\n",
    "print(f\"LETTERS: {count_letters}\")\n",
    "print(f\"DIGITS: {count_digits}\")"
   ]
  },
  {
   "cell_type": "code",
   "execution_count": 5,
   "id": "8d8fb7bc-bf13-4c5f-9722-fdb7be76f303",
   "metadata": {},
   "outputs": [
    {
     "name": "stdin",
     "output_type": "stream",
     "text": [
      "Please enter a number: 543212345\n"
     ]
    },
    {
     "name": "stdout",
     "output_type": "stream",
     "text": [
      "543212345 is a Palindrome Number\n"
     ]
    }
   ],
   "source": [
    "#5. Design a code which will find the given number is Palindrome number or not.\n",
    "#Palindrome: A palindromic number is that remains the same when its digits are reversed.\n",
    "number=input(\"Please enter a number:\")\n",
    "\n",
    "if number == number[::-1]:\n",
    "    print(f\"{number} is a Palindrome Number\")\n",
    "else:\n",
    "    print(f\"{number} is not a Palindrome Number\")"
   ]
  },
  {
   "cell_type": "code",
   "execution_count": null,
   "id": "d90b1df2-7f5e-446e-9f70-8066204448d1",
   "metadata": {},
   "outputs": [],
   "source": []
  }
 ],
 "metadata": {
  "kernelspec": {
   "display_name": "Python 3",
   "language": "python",
   "name": "python3"
  },
  "language_info": {
   "codemirror_mode": {
    "name": "ipython",
    "version": 3
   },
   "file_extension": ".py",
   "mimetype": "text/x-python",
   "name": "python",
   "nbconvert_exporter": "python",
   "pygments_lexer": "ipython3",
   "version": "3.7.8"
  }
 },
 "nbformat": 4,
 "nbformat_minor": 5
}
