{
 "cells": [
  {
   "cell_type": "code",
   "execution_count": 1,
   "id": "7020af30-302f-456f-b9dc-31e60564a04d",
   "metadata": {},
   "outputs": [
    {
     "name": "stdout",
     "output_type": "stream",
     "text": [
      "4\n"
     ]
    }
   ],
   "source": [
    "#Problem 1\n",
    "\n",
    "#1. What is the output of the following code?\n",
    "nums =set([1,1,2,3,3,3,4,4])\n",
    "print(len(nums))\n",
    "\n",
    "#Hint:Set consists unique element\n",
    "\n",
    "#Output: 4"
   ]
  },
  {
   "cell_type": "code",
   "execution_count": null,
   "id": "9712e103-c4f6-47eb-a3a1-5b4bdc4d1664",
   "metadata": {},
   "outputs": [],
   "source": [
    "#Output: 4"
   ]
  },
  {
   "cell_type": "code",
   "execution_count": 2,
   "id": "c91a8c1f-2f68-447d-9e63-2ac815645522",
   "metadata": {},
   "outputs": [
    {
     "name": "stdout",
     "output_type": "stream",
     "text": [
      "['john', 'peter']\n"
     ]
    }
   ],
   "source": [
    "#Problem 2\n",
    "\n",
    "#2. What will be the output?\n",
    "\n",
    "d ={\"john\":40, \"peter\":45}\n",
    "print(list(d.keys()))\n",
    "\n",
    "#Hint:d.keys() is the function which will show keys"
   ]
  },
  {
   "cell_type": "code",
   "execution_count": null,
   "id": "17d8923f-6853-4b53-b721-8ba9f13024ca",
   "metadata": {},
   "outputs": [],
   "source": [
    "#Output: ['john', 'peter']"
   ]
  },
  {
   "cell_type": "markdown",
   "id": "6bbcc1d6-d283-41ed-886e-e6cc1778bebb",
   "metadata": {},
   "source": [
    "#Problem 3\n",
    "\"\"\"3. A website requires a user to input username and password to register. \n",
    "Write a program to check the validity of password given by user. \n",
    "\n",
    "Following are the criteria for checking password:\n",
    "1. At least 1 letter between [a-z]\n",
    "2. At least 1 number between [0-9]\n",
    "1. At least 1 letter between [A-Z]\n",
    "3. At least 1 character from [$#@]\n",
    "4. Minimum length of transaction password: 6\n",
    "5. Maximum length of transaction password: 12\n",
    "\n",
    "Hint: In case of input data being supplied to the question, it should be assumed to be a console input.\"\"\""
   ]
  },
  {
   "cell_type": "code",
   "execution_count": 13,
   "id": "ca7604c1-d444-493d-a664-2a5760123d57",
   "metadata": {},
   "outputs": [
    {
     "name": "stdout",
     "output_type": "stream",
     "text": [
      "Valid password characteristics:\n",
      "1. At least 1 letter between [a-z]\n",
      "2. At least 1 number between [0-9]\n",
      "1. At least 1 letter between [A-Z]\n",
      "3. At least 1 character from [$#@]\n",
      "4. Minimum length of transaction password: 6\n",
      "5. Maximum length of transaction password: 12\n"
     ]
    },
    {
     "name": "stdin",
     "output_type": "stream",
     "text": [
      "Please enter a password:  P@ssw0rd#\n"
     ]
    },
    {
     "name": "stdout",
     "output_type": "stream",
     "text": [
      "Valid Password\n"
     ]
    }
   ],
   "source": [
    "#Solution3:\n",
    "help_text=\"\"\"Valid password characteristics:\n",
    "1. At least 1 letter between [a-z]\n",
    "2. At least 1 number between [0-9]\n",
    "1. At least 1 letter between [A-Z]\n",
    "3. At least 1 character from [$#@]\n",
    "4. Minimum length of transaction password: 6\n",
    "5. Maximum length of transaction password: 12\"\"\"\n",
    "print(help_text)\n",
    "password = input(\"Please enter a password: \")\n",
    "\n",
    "                              \n",
    "lower, numeric, upper, spl_chr=0,0,0,0\n",
    "min_len=6\n",
    "max_len=12\n",
    "if (len(password) >= min_len or len(password) <= max_len):\n",
    "    for i in password:\n",
    "        #Validate Lower alphabets\n",
    "        if(i.islower()):\n",
    "            lower+=1\n",
    "        #Validate numeric\n",
    "        if(i.isnumeric()):\n",
    "            numeric+=1\n",
    "        #Validate upper alphabets\n",
    "        if(i.isupper()):\n",
    "            upper+=1\n",
    "        #Validate special characters\n",
    "        if(i == '$' or i == '#' or i == '@'):\n",
    "            spl_chr+=1\n",
    "        \n",
    "\n",
    "if (lower>=1 and upper>=1 and numeric>=1 and spl_chr>=1 and lower+upper+numeric+spl_chr==len(password)):\n",
    "    print(f\"Valid Password\")\n",
    "else:\n",
    "    print(f\"Invalid Password\")"
   ]
  },
  {
   "cell_type": "markdown",
   "id": "5da5d201-205c-4dff-9e8d-84ed5d5c2490",
   "metadata": {},
   "source": [
    "#Problem 4\n",
    "\n",
    "4. Write a for loop that prints all elements of a list and their position in the list.\n",
    "\n",
    "a = [4,7,3,2,5,9] \n",
    "\n",
    "Hint: Use Loop to iterate through list elements."
   ]
  },
  {
   "cell_type": "code",
   "execution_count": 24,
   "id": "4c0c4251-ecdd-4691-8af4-a34f03cc0351",
   "metadata": {},
   "outputs": [
    {
     "name": "stdout",
     "output_type": "stream",
     "text": [
      "List Element: 4,  Position: 0\n",
      "List Element: 7,  Position: 1\n",
      "List Element: 3,  Position: 2\n",
      "List Element: 2,  Position: 3\n",
      "List Element: 5,  Position: 4\n",
      "List Element: 9,  Position: 5\n"
     ]
    }
   ],
   "source": [
    "#Solution 4\n",
    "\n",
    "a = [4,7,3,2,5,9]\n",
    "for index,val in enumerate(a):\n",
    "    print(f\"List Element: {val},  Position: {index}\")"
   ]
  },
  {
   "cell_type": "code",
   "execution_count": null,
   "id": "5a80a062-eba6-4ca9-b99f-886a686b7ff1",
   "metadata": {},
   "outputs": [],
   "source": []
  },
  {
   "cell_type": "code",
   "execution_count": null,
   "id": "1d5d0856-1bdc-4c43-9ddd-068ab6f7d467",
   "metadata": {},
   "outputs": [],
   "source": []
  },
  {
   "cell_type": "code",
   "execution_count": null,
   "id": "c001f394-d6d4-4728-b316-930a9e3ffec6",
   "metadata": {},
   "outputs": [],
   "source": []
  }
 ],
 "metadata": {
  "kernelspec": {
   "display_name": "Python 3",
   "language": "python",
   "name": "python3"
  },
  "language_info": {
   "codemirror_mode": {
    "name": "ipython",
    "version": 3
   },
   "file_extension": ".py",
   "mimetype": "text/x-python",
   "name": "python",
   "nbconvert_exporter": "python",
   "pygments_lexer": "ipython3",
   "version": "3.7.8"
  }
 },
 "nbformat": 4,
 "nbformat_minor": 5
}
